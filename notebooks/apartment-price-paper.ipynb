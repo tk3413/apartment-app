{
 "cells": [
  {
   "cell_type": "markdown",
   "metadata": {},
   "source": [
    "# apartment app\n",
    "\n",
    "## observation\n",
    "\n",
    "apartment price fluctuations are seasonal\n",
    "\n",
    "## question\n",
    "\n",
    "is the cost to rent an apartment dependent on the time of year?\n",
    "\n",
    "## preliminary research\n",
    "\n",
    "- cost to rent an apartment noticably trends higher during the 4 months that surround school graduation dates (nov - feb, may - aug)\n",
    "- cost peaks around jan and jul\n",
    "- additional move-in bonuses are more widely advertised during the remaining 4 months (mar - apr, sept - oct), likely due to fewer movers during this time\n",
    "\n",
    "\n",
    "## hypothesis\n",
    "\n",
    "apartment price trends upwards as the school semester comes to a close\n",
    "\n",
    "## test\n",
    "\n",
    "observational test to be conducted by scraping websites that advertise apartment move in prices in the northern virginia region and analyzing price data over the course of a year\n",
    "\n",
    "overall data warehousing architecture is composed of the following four components all run on AWS:\n",
    "- data ingestion scripts\n",
    "- postgres database and RESTful server\n",
    "- cron scripts to coordinate regular data pull and validations\n",
    "- real-time visualization of data trends over time"
   ]
  }
 ],
 "metadata": {
  "kernelspec": {
   "display_name": "Python 3",
   "language": "python",
   "name": "python3"
  },
  "language_info": {
   "codemirror_mode": {
    "name": "ipython",
    "version": 3
   },
   "file_extension": ".py",
   "mimetype": "text/x-python",
   "name": "python",
   "nbconvert_exporter": "python",
   "pygments_lexer": "ipython3",
   "version": "3.6.13"
  }
 },
 "nbformat": 4,
 "nbformat_minor": 2
}
